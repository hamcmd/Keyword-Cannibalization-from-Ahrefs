{
  "nbformat": 4,
  "nbformat_minor": 0,
  "metadata": {
    "colab": {
      "name": "Keyword Cannibalization ",
      "provenance": [],
      "authorship_tag": "ABX9TyM+irgRnMxuVM1BO/KY378D",
      "include_colab_link": true
    },
    "kernelspec": {
      "name": "python3",
      "display_name": "Python 3"
    },
    "language_info": {
      "name": "python"
    }
  },
  "cells": [
    {
      "cell_type": "markdown",
      "metadata": {
        "id": "view-in-github",
        "colab_type": "text"
      },
      "source": [
        "<a href=\"https://colab.research.google.com/github/hammad-m/Keyword-Cannibalization-from-Ahrefs/blob/main/Keyword_Cannibalization.ipynb\" target=\"_parent\"><img src=\"https://colab.research.google.com/assets/colab-badge.svg\" alt=\"Open In Colab\"/></a>"
      ]
    },
    {
      "cell_type": "code",
      "metadata": {
        "id": "fktvtLFgS13F"
      },
      "source": [
        "from urllib.parse import urlparse\n",
        "import pandas as pd\n",
        "import io\n",
        "from google.colab import files\n",
        "uploaded = files.upload()"
      ],
      "execution_count": null,
      "outputs": []
    },
    {
      "cell_type": "code",
      "metadata": {
        "id": "Gb4vFBsfVqR8"
      },
      "source": [
        "df = pd.read_csv(io.StringIO(uploaded['filename.csv'].decode('utf-8')))\n",
        "df"
      ],
      "execution_count": null,
      "outputs": []
    },
    {
      "cell_type": "code",
      "metadata": {
        "id": "fzZgYclIZA5t"
      },
      "source": [
        "def clean_url(url):\n",
        "  o = urlparse(url)\n",
        "  url = o.scheme + '://' + o.netloc + o.path\n",
        "  return url\n",
        "\n",
        "pd.options.mode.chained_assignment = None\n",
        "cannibalized_df = df[['URL','Current top keyword']]\n",
        "cannibalized_df['URL'] = cannibalized_df['URL'].apply(clean_url)\n",
        "cannibalized_df.drop_duplicates(inplace=True)\n",
        "cannibalized_df.dropna(inplace=True)\n",
        "rows=cannibalized_df['Current top keyword'].duplicated(keep=False)\n",
        "cannibalized_df[rows].sort_values('Current top keyword')"
      ],
      "execution_count": null,
      "outputs": []
    },
    {
      "cell_type": "code",
      "metadata": {
        "id": "Yi6pmZFyAtk5"
      },
      "source": [
        "cannibalized_df[rows].sort_values('Current top keyword').to_excel(\"output.xlsx\",index=False)"
      ],
      "execution_count": null,
      "outputs": []
    }
  ]
}